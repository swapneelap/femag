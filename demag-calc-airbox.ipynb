{
 "cells": [
  {
   "cell_type": "code",
   "execution_count": 1,
   "id": "256d0e72-9f26-4bc2-a95c-be909fd8effa",
   "metadata": {},
   "outputs": [],
   "source": [
    "import skfem\n",
    "import skfem.helpers"
   ]
  },
  {
   "cell_type": "code",
   "execution_count": 2,
   "id": "0ff365f1-e548-4702-b457-68343ab2ceed",
   "metadata": {},
   "outputs": [
    {
     "name": "stdout",
     "output_type": "stream",
     "text": [
      "\n"
     ]
    },
    {
     "name": "stderr",
     "output_type": "stream",
     "text": [
      "Failure to parse tags from meshio.\n"
     ]
    }
   ],
   "source": [
    "mesh = skfem.Mesh.load(\"cube.msh\")"
   ]
  },
  {
   "cell_type": "code",
   "execution_count": 3,
   "id": "8649f8f8-b2d7-4665-8f0a-3fd42ca6ed20",
   "metadata": {},
   "outputs": [
    {
     "data": {
      "text/plain": [
       "<skfem MeshTet1 object>\n",
       "  Number of elements: 289381\n",
       "  Number of vertices: 48526\n",
       "  Number of nodes: 48526\n",
       "  Named subdomains [# elements]: air [217700], material [71681]"
      ]
     },
     "execution_count": 3,
     "metadata": {},
     "output_type": "execute_result"
    }
   ],
   "source": [
    "mesh"
   ]
  },
  {
   "cell_type": "markdown",
   "id": "6f1393ad-0b43-4961-a42a-0bcd99e611a9",
   "metadata": {},
   "source": [
    "### Solving PDE in weak form\n",
    "\n",
    "$$\n",
    "\\int_{\\Omega} \\nabla u \\cdot \\nabla v \\ \\mathrm{d}x = \\int_{\\Omega} \\mathbf{M} \\cdot \\nabla v \\ \\mathrm{d}x\n",
    "$$\n",
    "\n",
    "If we consider same piece-wise-linear function space for both magnetic scalar potential $u$ and components of $\\mathbf{M}$, we can re-write the PDE as:\n",
    "$$\n",
    "\\sum_{j=1}^{n} \\sum_{i=1}^{n} v_j u_i \\int_{\\Omega_{ji}} \\nabla\\phi_{j} \\cdot \\nabla\\phi_{i} \\ \\mathrm{d}x = \\sum_{j=1}^{n} \\sum_{k=1}^{n} v_j m_k \\int_{\\Omega_{jk}} \\nabla\\phi_{j} \\cdot \\hat{\\phi_{k}} \\ \\mathrm{d}x\n",
    "$$\n",
    "This can be further re-written as a matrix-vector product:\n",
    "$$\n",
    "\\mathbf{v}_{j}^{\\mathrm{T}} \\cdot \\mathbf{{S}}_{ji} \\cdot \\mathbf{u}_{i} = \\mathbf{v}_{j}^{\\mathrm{T}} \\cdot \\mathbf{{B}}_{jk} \\cdot \\mathbf{m}_{k}\n",
    "$$\n",
    "Here $\\mathbf{u}_{i}$ is the unknown vector corresponding to the values of scalar potential at nodes of the mesh. Thus, we obtain a system of linear equations:\n",
    "$$\n",
    "\\mathbf{{S}}_{ji} \\cdot \\mathbf{u}_{i} = \\mathbf{{B}}_{jk} \\cdot \\mathbf{m}_{k}\n",
    "$$\n",
    "Where,\n",
    "$$\n",
    "\\begin{aligned}\n",
    "    \\mathbf{{S}}_{ji} &= \\int_{\\Omega_{ji}} \\nabla\\phi_{j} \\cdot \\nabla\\phi_{i} \\ \\mathrm{d}x \\\\\n",
    "    \\mathbf{{B}}_{jk} &= \\int_{\\Omega_{jk}} \\nabla\\phi_{j} \\cdot \\hat{\\phi_{k}} \\ \\mathrm{d}x\n",
    "\\end{aligned}\n",
    "$$\n",
    "are both system matrices which remain constant for a given mesh and can be assembled first using `scikit-fem` library."
   ]
  },
  {
   "cell_type": "code",
   "execution_count": 4,
   "id": "866e1662-852d-452f-a940-b4d96f13d656",
   "metadata": {},
   "outputs": [],
   "source": [
    "function_space_scalar = skfem.Basis(mesh, skfem.ElementTetP1())"
   ]
  },
  {
   "cell_type": "code",
   "execution_count": 5,
   "id": "da65d1b3-159e-412f-8732-c4f2c92e0ba4",
   "metadata": {},
   "outputs": [],
   "source": [
    "function_space_vector = skfem.Basis(mesh, skfem.ElementVectorH1(skfem.ElementTetP1()))"
   ]
  },
  {
   "cell_type": "markdown",
   "id": "7c4630cc-bd2f-4111-be30-ece1a89db5b1",
   "metadata": {},
   "source": [
    "Define bilinear form for the assembly of stiffness matrix $\\mathbf{S}_{ji}$"
   ]
  },
  {
   "cell_type": "code",
   "execution_count": 6,
   "id": "2c76b786-3d01-407b-a711-35b5a2b8796e",
   "metadata": {},
   "outputs": [],
   "source": [
    "@skfem.BilinearForm\n",
    "def stiffness_matrix(u, v, _):\n",
    "    return skfem.helpers.dot(skfem.helpers.grad(u), skfem.helpers.grad(v))"
   ]
  },
  {
   "cell_type": "markdown",
   "id": "d6542ca4-b36b-45ea-8f34-9766ce1da63a",
   "metadata": {},
   "source": [
    "Define bilinear form for the assembly of the mixed-form matrix $\\mathbf{B}_{jk}$"
   ]
  },
  {
   "cell_type": "code",
   "execution_count": 7,
   "id": "0b687f2b-021e-4b22-90b4-4c405405b2db",
   "metadata": {},
   "outputs": [],
   "source": [
    "@skfem.BilinearForm\n",
    "def mixed_form_matrix(u, v, _):\n",
    "    return skfem.helpers.dot(u, skfem.helpers.grad(v))"
   ]
  },
  {
   "cell_type": "code",
   "execution_count": 8,
   "id": "4c8d4e90-90cd-46f9-9c56-58d2e3f130c9",
   "metadata": {},
   "outputs": [
    {
     "name": "stdout",
     "output_type": "stream",
     "text": [
      "338 ms ± 7.58 ms per loop (mean ± std. dev. of 7 runs, 1 loop each)\n"
     ]
    }
   ],
   "source": [
    "%%timeit\n",
    "skfem.asm(stiffness_matrix, function_space_scalar)"
   ]
  },
  {
   "cell_type": "markdown",
   "id": "e9733a95-225e-4e3a-8a6e-dc330bf04273",
   "metadata": {},
   "source": [
    "`skfem.asm` actually calculates the integrals using quadrature points in the mesh and assembles the sparse matrices. "
   ]
  },
  {
   "cell_type": "code",
   "execution_count": 9,
   "id": "2c358f65-ca58-4da1-b7dc-2893ad943d32",
   "metadata": {},
   "outputs": [],
   "source": [
    "S = skfem.asm(stiffness_matrix, function_space_scalar)"
   ]
  },
  {
   "cell_type": "code",
   "execution_count": 10,
   "id": "d05fc732-3ee8-45ae-99d5-79ea78810091",
   "metadata": {},
   "outputs": [
    {
     "name": "stdout",
     "output_type": "stream",
     "text": [
      "971 ms ± 24.6 ms per loop (mean ± std. dev. of 7 runs, 1 loop each)\n"
     ]
    }
   ],
   "source": [
    "%%timeit\n",
    "skfem.asm(mixed_form_matrix, function_space_vector, function_space_scalar)"
   ]
  },
  {
   "cell_type": "code",
   "execution_count": 11,
   "id": "3b8af80e-86e0-4b23-8a1e-6bf0d914a031",
   "metadata": {},
   "outputs": [],
   "source": [
    "B = skfem.asm(mixed_form_matrix, function_space_vector, function_space_scalar)"
   ]
  },
  {
   "cell_type": "code",
   "execution_count": 12,
   "id": "d56fa993-2107-4287-88da-0fa1db1ead57",
   "metadata": {},
   "outputs": [
    {
     "data": {
      "text/plain": [
       "<Compressed Sparse Row sparse matrix of dtype 'float64'\n",
       "\twith 733188 stored elements and shape (48526, 48526)>"
      ]
     },
     "execution_count": 12,
     "metadata": {},
     "output_type": "execute_result"
    }
   ],
   "source": [
    "S"
   ]
  },
  {
   "cell_type": "code",
   "execution_count": 13,
   "id": "1bb7f0a3-a6ab-408e-9320-134afba24ee2",
   "metadata": {},
   "outputs": [
    {
     "data": {
      "text/plain": [
       "<Compressed Sparse Row sparse matrix of dtype 'float64'\n",
       "\twith 2199189 stored elements and shape (48526, 145578)>"
      ]
     },
     "execution_count": 13,
     "metadata": {},
     "output_type": "execute_result"
    }
   ],
   "source": [
    "B"
   ]
  },
  {
   "cell_type": "markdown",
   "id": "341676c8-41d3-4e23-9df8-deb01ff2fbef",
   "metadata": {},
   "source": [
    "## Create initial magnetisation\n",
    "\n"
   ]
  },
  {
   "cell_type": "code",
   "execution_count": 14,
   "id": "edd20976-6285-4c69-825b-ccf90cfa63b5",
   "metadata": {},
   "outputs": [],
   "source": [
    "import numpy as np"
   ]
  },
  {
   "cell_type": "code",
   "execution_count": 15,
   "id": "0a6b8580-aaac-4d62-b4c1-534626533901",
   "metadata": {},
   "outputs": [],
   "source": [
    "def mag_sat(x):\n",
    "    m_x = np.zeros_like(x[0])\n",
    "    m_y = np.zeros_like(x[1])\n",
    "    m_z = np.zeros_like(x[2])\n",
    "    m_z[(np.abs(x[0]) < 25.) & (np.abs(x[1]) < 25.) & (np.abs(x[2]) < 25.)] = 1.76 # T\n",
    "\n",
    "    return np.stack(np.array([m_x, m_y, m_z]), axis=-1)"
   ]
  },
  {
   "cell_type": "code",
   "execution_count": 16,
   "id": "e905888b-a0f4-4349-b9bc-b3cc8c00912b",
   "metadata": {},
   "outputs": [],
   "source": [
    "mag_init_arr = mag_sat(mesh.p)"
   ]
  },
  {
   "cell_type": "code",
   "execution_count": 17,
   "id": "8537fce2-357d-4792-b592-0b52995d1685",
   "metadata": {},
   "outputs": [
    {
     "data": {
      "text/plain": [
       "(48526, 3)"
      ]
     },
     "execution_count": 17,
     "metadata": {},
     "output_type": "execute_result"
    }
   ],
   "source": [
    "mag_init_arr.shape"
   ]
  },
  {
   "cell_type": "markdown",
   "id": "166459ed-2ada-4034-aade-b47e902eefcb",
   "metadata": {},
   "source": [
    "Unfortunately, `scikit-fem` works with flattened arrays of vector fields :("
   ]
  },
  {
   "cell_type": "code",
   "execution_count": 19,
   "id": "5c4b40c5-5f65-48fd-946e-9545dc35fd11",
   "metadata": {},
   "outputs": [],
   "source": [
    "mag_init_flat = np.hstack(mag_init_arr)"
   ]
  },
  {
   "cell_type": "code",
   "execution_count": 20,
   "id": "e1053ff6-3163-472d-b160-311860f4eb1b",
   "metadata": {},
   "outputs": [
    {
     "data": {
      "text/plain": [
       "(145578,)"
      ]
     },
     "execution_count": 20,
     "metadata": {},
     "output_type": "execute_result"
    }
   ],
   "source": [
    "mag_init_flat.shape"
   ]
  },
  {
   "cell_type": "code",
   "execution_count": 23,
   "id": "e1932308-ce55-431c-96bd-4058899ade41",
   "metadata": {},
   "outputs": [
    {
     "name": "stdout",
     "output_type": "stream",
     "text": [
      "1.54 ms ± 12 μs per loop (mean ± std. dev. of 7 runs, 1,000 loops each)\n"
     ]
    }
   ],
   "source": [
    "%%timeit\n",
    "B @ mag_init_flat"
   ]
  },
  {
   "cell_type": "markdown",
   "id": "eebe1592-3b91-445b-9ab7-720ea64160a0",
   "metadata": {},
   "source": [
    "> **_NOTE:_**  As expected, multiplication of a sparse matrix $\\mathbf{B}_{jk}$ with $\\mathbf{m}_k$ is quicker than matrix assembly plus multiplication with magnetisation vector."
   ]
  },
  {
   "cell_type": "code",
   "execution_count": 24,
   "id": "d8c5b87d-a760-4a8c-9b97-8e8b5596792a",
   "metadata": {},
   "outputs": [],
   "source": [
    "mesh.save(\"mag.vtk\", point_data={\"m\": mag_init_arr})"
   ]
  },
  {
   "cell_type": "markdown",
   "id": "178aee9f-fb8e-415c-9ce1-40b851b536e7",
   "metadata": {},
   "source": [
    "## Solve the PDE"
   ]
  },
  {
   "cell_type": "code",
   "execution_count": 25,
   "id": "c1060e47-b859-4880-97d1-7f9cbf63ff04",
   "metadata": {},
   "outputs": [],
   "source": [
    "from scipy.sparse.linalg import spsolve"
   ]
  },
  {
   "cell_type": "code",
   "execution_count": 26,
   "id": "3339c93f-23e0-4e95-84e7-84a245754edf",
   "metadata": {},
   "outputs": [],
   "source": [
    "rhs = B @ mag_init_flat"
   ]
  },
  {
   "cell_type": "markdown",
   "id": "6208ae29-c3c7-423e-9861-ca00a88d9258",
   "metadata": {},
   "source": [
    "Remove the boundary nodes from the system of linear equations since we know that $u = 0$ at the boundary."
   ]
  },
  {
   "cell_type": "code",
   "execution_count": 27,
   "id": "d95b0d29-704e-40fc-b3f2-ed840ccc7b77",
   "metadata": {},
   "outputs": [],
   "source": [
    "S_cnd, rhs_cnd, _, sol_indices = skfem.condense(A=S, b=rhs, D=mesh.boundary_nodes())"
   ]
  },
  {
   "cell_type": "code",
   "execution_count": 28,
   "id": "b40be658-e7de-463c-8945-c52dd21ebc70",
   "metadata": {},
   "outputs": [],
   "source": [
    "sol = spsolve(A=S_cnd, b=rhs_cnd)"
   ]
  },
  {
   "cell_type": "code",
   "execution_count": 29,
   "id": "0617356c-73c3-4431-a02a-7736d386abe4",
   "metadata": {},
   "outputs": [
    {
     "data": {
      "text/plain": [
       "np.float64(2.163012062375222e-11)"
      ]
     },
     "execution_count": 29,
     "metadata": {},
     "output_type": "execute_result"
    }
   ],
   "source": [
    "np.linalg.norm(S_cnd @ sol - rhs_cnd)"
   ]
  },
  {
   "cell_type": "markdown",
   "id": "a375dfc5-55ab-4126-8570-f27575b9a630",
   "metadata": {},
   "source": [
    "## Calculate the $\\mathbf{H}_\\mathrm{dmg}$ from the scalar potential"
   ]
  },
  {
   "cell_type": "code",
   "execution_count": 30,
   "id": "bef0121b-b205-4a9d-a730-9a9389ec505f",
   "metadata": {},
   "outputs": [],
   "source": [
    "pot = function_space_scalar.zeros()"
   ]
  },
  {
   "cell_type": "code",
   "execution_count": 31,
   "id": "de43b35c-d685-4ac6-9eb5-cf189d926505",
   "metadata": {},
   "outputs": [],
   "source": [
    "pot[sol_indices] = sol"
   ]
  },
  {
   "cell_type": "markdown",
   "id": "cc5c24bc-3d0d-41f4-9890-533b5bf571ca",
   "metadata": {},
   "source": [
    "Project the gradient of the scalar potential to the vector function space on which magnetisation is defined."
   ]
  },
  {
   "cell_type": "code",
   "execution_count": 32,
   "id": "4c74f0db-3293-474e-bdb5-8da25ef1ca2d",
   "metadata": {},
   "outputs": [],
   "source": [
    "h_dmg = function_space_vector.project(-skfem.helpers.grad(function_space_scalar.interpolate(pot)))"
   ]
  },
  {
   "cell_type": "code",
   "execution_count": 33,
   "id": "1db5c483-ac1e-47a1-b116-0596879adb38",
   "metadata": {},
   "outputs": [
    {
     "data": {
      "text/plain": [
       "(145578,)"
      ]
     },
     "execution_count": 33,
     "metadata": {},
     "output_type": "execute_result"
    }
   ],
   "source": [
    "h_dmg.shape"
   ]
  },
  {
   "cell_type": "code",
   "execution_count": 36,
   "id": "d20ab9c3-3469-4983-89ce-189a87118056",
   "metadata": {},
   "outputs": [],
   "source": [
    "h_dmg_reshape = np.stack(np.split(h_dmg, h_dmg.shape[0]/3), axis=0)"
   ]
  },
  {
   "cell_type": "code",
   "execution_count": 37,
   "id": "16d6affa-0803-4914-bc78-48213d19398c",
   "metadata": {},
   "outputs": [
    {
     "data": {
      "text/plain": [
       "(48526, 3)"
      ]
     },
     "execution_count": 37,
     "metadata": {},
     "output_type": "execute_result"
    }
   ],
   "source": [
    "h_dmg_reshape.shape"
   ]
  },
  {
   "cell_type": "code",
   "execution_count": 39,
   "id": "a7ea56a5-dc90-478f-836b-fa7b20b2accc",
   "metadata": {},
   "outputs": [],
   "source": [
    "mesh.save(\"h_dmg.vtk\", point_data={\"h_dmg\": h_dmg_reshape})"
   ]
  }
 ],
 "metadata": {
  "kernelspec": {
   "display_name": "Python 3 (ipykernel)",
   "language": "python",
   "name": "python3"
  },
  "language_info": {
   "codemirror_mode": {
    "name": "ipython",
    "version": 3
   },
   "file_extension": ".py",
   "mimetype": "text/x-python",
   "name": "python",
   "nbconvert_exporter": "python",
   "pygments_lexer": "ipython3",
   "version": "3.13.2"
  }
 },
 "nbformat": 4,
 "nbformat_minor": 5
}
