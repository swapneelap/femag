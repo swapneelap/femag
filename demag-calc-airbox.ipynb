{
 "cells": [
  {
   "cell_type": "code",
   "execution_count": 1,
   "id": "256d0e72-9f26-4bc2-a95c-be909fd8effa",
   "metadata": {},
   "outputs": [],
   "source": [
    "import skfem\n",
    "import skfem.helpers"
   ]
  },
  {
   "cell_type": "code",
   "execution_count": 2,
   "id": "0ff365f1-e548-4702-b457-68343ab2ceed",
   "metadata": {},
   "outputs": [
    {
     "name": "stdout",
     "output_type": "stream",
     "text": [
      "\n"
     ]
    },
    {
     "name": "stderr",
     "output_type": "stream",
     "text": [
      "Failure to parse tags from meshio.\n"
     ]
    }
   ],
   "source": [
    "mesh = skfem.Mesh.load(\"cube.msh\")"
   ]
  },
  {
   "cell_type": "code",
   "execution_count": 3,
   "id": "8649f8f8-b2d7-4665-8f0a-3fd42ca6ed20",
   "metadata": {},
   "outputs": [
    {
     "data": {
      "text/plain": [
       "<skfem MeshTet1 object>\n",
       "  Number of elements: 289381\n",
       "  Number of vertices: 48526\n",
       "  Number of nodes: 48526\n",
       "  Named subdomains [# elements]: air [217700], material [71681]"
      ]
     },
     "execution_count": 3,
     "metadata": {},
     "output_type": "execute_result"
    }
   ],
   "source": [
    "mesh"
   ]
  },
  {
   "cell_type": "markdown",
   "id": "6f1393ad-0b43-4961-a42a-0bcd99e611a9",
   "metadata": {},
   "source": [
    "### Solving PDE in weak form\n",
    "\n",
    "$$\n",
    "\\int_{\\Omega} \\nabla u \\cdot \\nabla v \\ \\mathrm{d}x = \\int_{\\Omega} \\mathbf{M} \\cdot \\nabla v \\ \\mathrm{d}x\n",
    "$$\n",
    "\n",
    "If we consider same piece-wise-linear function space for both magnetic scalar potential $u$ and components of $\\mathbf{M}$, we can re-write the PDE as:\n",
    "$$\n",
    "\\sum_{j=1}^{n} \\sum_{i=1}^{n} v_j u_i \\int_{\\Omega_{ji}} \\nabla\\phi_{j} \\cdot \\nabla\\phi_{i} \\ \\mathrm{d}x = \\sum_{j=1}^{n} \\sum_{k=1}^{n} v_j m_k \\int_{\\Omega_{ik}} \\hat{\\phi_{k}} \\cdot \\nabla\\phi_{j} \\ \\mathrm{d}x\n",
    "$$\n",
    "This can be further re-written as a matrix-vector product:\n",
    "$$\n",
    "\\mathbf{v}_{j}^{\\mathrm{T}} \\cdot \\mathbf{\\mathrm{A}}_{ij} \\cdot \\mathbf{u}_{i} = \\mathbf{v}_{j}^{\\mathrm{T}} \\cdot \\mathbf{\\mathrm{B}}_{jk} \\cdot \\mathbf{m}_{k}\n",
    "$$"
   ]
  },
  {
   "cell_type": "code",
   "execution_count": 4,
   "id": "866e1662-852d-452f-a940-b4d96f13d656",
   "metadata": {},
   "outputs": [],
   "source": [
    "function_space_scalar = skfem.Basis(mesh, skfem.ElementTetP1())"
   ]
  },
  {
   "cell_type": "code",
   "execution_count": 5,
   "id": "da65d1b3-159e-412f-8732-c4f2c92e0ba4",
   "metadata": {},
   "outputs": [],
   "source": [
    "function_space_vector = skfem.Basis(mesh, skfem.ElementVectorH1(skfem.ElementTetP1()))"
   ]
  },
  {
   "cell_type": "code",
   "execution_count": 6,
   "id": "2c76b786-3d01-407b-a711-35b5a2b8796e",
   "metadata": {},
   "outputs": [],
   "source": [
    "@skfem.BilinearForm\n",
    "def stiffness_matrix(u, v, _):\n",
    "    return skfem.helpers.dot(skfem.helpers.grad(u), skfem.helpers.grad(v))"
   ]
  },
  {
   "cell_type": "code",
   "execution_count": 7,
   "id": "0b687f2b-021e-4b22-90b4-4c405405b2db",
   "metadata": {},
   "outputs": [],
   "source": [
    "@skfem.BilinearForm\n",
    "def mixed_form_matrix(u, v, _):\n",
    "    return skfem.helpers.dot(u, skfem.helpers.grad(v))"
   ]
  },
  {
   "cell_type": "code",
   "execution_count": 8,
   "id": "4c8d4e90-90cd-46f9-9c56-58d2e3f130c9",
   "metadata": {},
   "outputs": [
    {
     "name": "stdout",
     "output_type": "stream",
     "text": [
      "483 ms ± 12.1 ms per loop (mean ± std. dev. of 7 runs, 1 loop each)\n"
     ]
    }
   ],
   "source": [
    "%%timeit\n",
    "skfem.asm(stiffness_matrix, function_space_scalar)"
   ]
  },
  {
   "cell_type": "code",
   "execution_count": 9,
   "id": "2c358f65-ca58-4da1-b7dc-2893ad943d32",
   "metadata": {},
   "outputs": [],
   "source": [
    "S = skfem.asm(stiffness_matrix, function_space_scalar)"
   ]
  },
  {
   "cell_type": "code",
   "execution_count": 10,
   "id": "d05fc732-3ee8-45ae-99d5-79ea78810091",
   "metadata": {},
   "outputs": [
    {
     "name": "stdout",
     "output_type": "stream",
     "text": [
      "1.35 s ± 27.2 ms per loop (mean ± std. dev. of 7 runs, 1 loop each)\n"
     ]
    }
   ],
   "source": [
    "%%timeit\n",
    "skfem.asm(mixed_form_matrix, function_space_vector, function_space_scalar)"
   ]
  },
  {
   "cell_type": "code",
   "execution_count": 11,
   "id": "3b8af80e-86e0-4b23-8a1e-6bf0d914a031",
   "metadata": {},
   "outputs": [],
   "source": [
    "A = skfem.asm(mixed_form_matrix, function_space_vector, function_space_scalar)"
   ]
  },
  {
   "cell_type": "code",
   "execution_count": 12,
   "id": "d56fa993-2107-4287-88da-0fa1db1ead57",
   "metadata": {},
   "outputs": [
    {
     "data": {
      "text/plain": [
       "<Compressed Sparse Row sparse matrix of dtype 'float64'\n",
       "\twith 733188 stored elements and shape (48526, 48526)>"
      ]
     },
     "execution_count": 12,
     "metadata": {},
     "output_type": "execute_result"
    }
   ],
   "source": [
    "S"
   ]
  },
  {
   "cell_type": "code",
   "execution_count": 13,
   "id": "1bb7f0a3-a6ab-408e-9320-134afba24ee2",
   "metadata": {},
   "outputs": [
    {
     "data": {
      "text/plain": [
       "<Compressed Sparse Row sparse matrix of dtype 'float64'\n",
       "\twith 2199189 stored elements and shape (48526, 145578)>"
      ]
     },
     "execution_count": 13,
     "metadata": {},
     "output_type": "execute_result"
    }
   ],
   "source": [
    "A"
   ]
  },
  {
   "cell_type": "markdown",
   "id": "341676c8-41d3-4e23-9df8-deb01ff2fbef",
   "metadata": {},
   "source": [
    "## Create initial magnetisation\n",
    "\n"
   ]
  },
  {
   "cell_type": "code",
   "execution_count": 14,
   "id": "edd20976-6285-4c69-825b-ccf90cfa63b5",
   "metadata": {},
   "outputs": [],
   "source": [
    "import numpy as np"
   ]
  },
  {
   "cell_type": "code",
   "execution_count": 15,
   "id": "0a6b8580-aaac-4d62-b4c1-534626533901",
   "metadata": {
    "jupyter": {
     "source_hidden": true
    }
   },
   "outputs": [],
   "source": [
    "def mag_sat(x):\n",
    "    m_x = np.zeros_like(x[0])\n",
    "    m_y = np.zeros_like(x[1])\n",
    "    m_z = np.zeros_like(x[2])\n",
    "    m_z[(np.abs(x[0]) < 25.) & (np.abs(x[1]) < 25.) & (np.abs(x[2]) < 25.)] = 1.76 # T\n",
    "\n",
    "    return np.stack(np.array([m_x, m_y, m_z]), axis=-1)"
   ]
  },
  {
   "cell_type": "code",
   "execution_count": 36,
   "id": "c9062c4d-7acb-4f19-b9fc-7958c157746a",
   "metadata": {},
   "outputs": [],
   "source": [
    "def mag_sat_2(x):\n",
    "    m_x = np.zeros_like(x[0])\n",
    "    m_y = np.zeros_like(x[1])\n",
    "    m_z = np.zeros_like(x[2])\n",
    "    m_z[(np.abs(x[0]) < 25.) & (np.abs(x[1]) < 25.) & (np.abs(x[2]) < 25.)] = 1.76 # T\n",
    "\n",
    "    return np.array([m_x, m_y, m_z])"
   ]
  },
  {
   "cell_type": "code",
   "execution_count": 16,
   "id": "e905888b-a0f4-4349-b9bc-b3cc8c00912b",
   "metadata": {
    "jupyter": {
     "source_hidden": true
    }
   },
   "outputs": [],
   "source": [
    "mag_init_arr = mag_sat(mesh.p)"
   ]
  },
  {
   "cell_type": "code",
   "execution_count": 21,
   "id": "5c4b40c5-5f65-48fd-946e-9545dc35fd11",
   "metadata": {
    "jupyter": {
     "source_hidden": true
    }
   },
   "outputs": [],
   "source": [
    "mag_init = np.hstack(mag_init_arr)"
   ]
  },
  {
   "cell_type": "code",
   "execution_count": 35,
   "id": "e1053ff6-3163-472d-b160-311860f4eb1b",
   "metadata": {
    "collapsed": true,
    "jupyter": {
     "outputs_hidden": true,
     "source_hidden": true
    }
   },
   "outputs": [
    {
     "data": {
      "text/plain": [
       "array([0.  , 0.  , 0.  , ..., 0.  , 0.  , 1.76], shape=(145578,))"
      ]
     },
     "execution_count": 35,
     "metadata": {},
     "output_type": "execute_result"
    }
   ],
   "source": [
    "mag_init"
   ]
  },
  {
   "cell_type": "code",
   "execution_count": 37,
   "id": "fa11d1ed-56c0-441f-a72c-bd6895f633a9",
   "metadata": {},
   "outputs": [],
   "source": [
    "mag_init_2 = function_space_vector.project(mag_sat_2)"
   ]
  },
  {
   "cell_type": "code",
   "execution_count": 47,
   "id": "d3684c21-68c9-4ca8-ab5b-9d80bcc029ee",
   "metadata": {},
   "outputs": [
    {
     "data": {
      "text/plain": [
       "array([ 0.00000000e+00,  0.00000000e+00, -7.82810710e-18, ...,\n",
       "        0.00000000e+00,  0.00000000e+00,  2.23822429e+00], shape=(145578,))"
      ]
     },
     "execution_count": 47,
     "metadata": {},
     "output_type": "execute_result"
    }
   ],
   "source": [
    "np.split"
   ]
  },
  {
   "cell_type": "code",
   "execution_count": 22,
   "id": "e1932308-ce55-431c-96bd-4058899ade41",
   "metadata": {},
   "outputs": [
    {
     "name": "stdout",
     "output_type": "stream",
     "text": [
      "4.14 ms ± 113 μs per loop (mean ± std. dev. of 7 runs, 100 loops each)\n"
     ]
    }
   ],
   "source": [
    "%%timeit\n",
    "A @ mag_init"
   ]
  },
  {
   "cell_type": "code",
   "execution_count": 23,
   "id": "d8c5b87d-a760-4a8c-9b97-8e8b5596792a",
   "metadata": {},
   "outputs": [],
   "source": [
    "mesh.save(\"mag.vtk\", point_data={\"m\": mag_init_arr})"
   ]
  },
  {
   "cell_type": "code",
   "execution_count": 41,
   "id": "f66b4463-97e7-48be-a54e-120681fac11c",
   "metadata": {},
   "outputs": [],
   "source": [
    "mesh.save(\"mag_2.vtk\", point_data={\"m\": mag_reshape})"
   ]
  },
  {
   "cell_type": "markdown",
   "id": "178aee9f-fb8e-415c-9ce1-40b851b536e7",
   "metadata": {},
   "source": [
    "## Solve the PDE"
   ]
  },
  {
   "cell_type": "code",
   "execution_count": 24,
   "id": "5294ccb1-361c-4264-85f4-cec92defebe8",
   "metadata": {},
   "outputs": [],
   "source": [
    "# ilu_operator = skfem.utils.build_pc_ilu(S_cnd)"
   ]
  },
  {
   "cell_type": "code",
   "execution_count": 25,
   "id": "c1060e47-b859-4880-97d1-7f9cbf63ff04",
   "metadata": {},
   "outputs": [],
   "source": [
    "from scipy.sparse.linalg import spsolve"
   ]
  },
  {
   "cell_type": "code",
   "execution_count": 26,
   "id": "3339c93f-23e0-4e95-84e7-84a245754edf",
   "metadata": {},
   "outputs": [],
   "source": [
    "rhs = A @ mag_init"
   ]
  },
  {
   "cell_type": "code",
   "execution_count": 27,
   "id": "d95b0d29-704e-40fc-b3f2-ed840ccc7b77",
   "metadata": {},
   "outputs": [],
   "source": [
    "S_cnd, rhs_cnd, _, sol_indices = skfem.condense(A=S, b=rhs, D=mesh.boundary_nodes())"
   ]
  },
  {
   "cell_type": "code",
   "execution_count": 28,
   "id": "b40be658-e7de-463c-8945-c52dd21ebc70",
   "metadata": {},
   "outputs": [],
   "source": [
    "sol = spsolve(A=S_cnd, b=rhs_cnd)"
   ]
  },
  {
   "cell_type": "code",
   "execution_count": 29,
   "id": "0617356c-73c3-4431-a02a-7736d386abe4",
   "metadata": {},
   "outputs": [
    {
     "data": {
      "text/plain": [
       "np.float64(2.1587861049079834e-11)"
      ]
     },
     "execution_count": 29,
     "metadata": {},
     "output_type": "execute_result"
    }
   ],
   "source": [
    "np.linalg.norm(S_cnd @ sol - rhs_cnd)"
   ]
  },
  {
   "cell_type": "markdown",
   "id": "a375dfc5-55ab-4126-8570-f27575b9a630",
   "metadata": {},
   "source": [
    "## Calculate the $\\mathbf{H}_\\mathrm{dmg}$ from the scalar potential"
   ]
  },
  {
   "cell_type": "code",
   "execution_count": 30,
   "id": "bef0121b-b205-4a9d-a730-9a9389ec505f",
   "metadata": {},
   "outputs": [],
   "source": [
    "pot = function_space_scalar.zeros()"
   ]
  },
  {
   "cell_type": "code",
   "execution_count": 31,
   "id": "de43b35c-d685-4ac6-9eb5-cf189d926505",
   "metadata": {},
   "outputs": [],
   "source": [
    "pot[sol_indices] = sol"
   ]
  },
  {
   "cell_type": "code",
   "execution_count": 32,
   "id": "4c74f0db-3293-474e-bdb5-8da25ef1ca2d",
   "metadata": {},
   "outputs": [],
   "source": [
    "h_dmg = function_space_vector.project(-skfem.helpers.grad(function_space_scalar.interpolate(pot)))"
   ]
  },
  {
   "cell_type": "code",
   "execution_count": 33,
   "id": "d20ab9c3-3469-4983-89ce-189a87118056",
   "metadata": {},
   "outputs": [],
   "source": [
    "h_dmg_reshape = np.stack(np.split(h_dmg, 3), axis=-1)"
   ]
  },
  {
   "cell_type": "code",
   "execution_count": 34,
   "id": "a7ea56a5-dc90-478f-836b-fa7b20b2accc",
   "metadata": {},
   "outputs": [],
   "source": [
    "mesh.save(\"h_dmg.vtk\", point_data={\"h_dmg\": h_dmg_reshape})"
   ]
  }
 ],
 "metadata": {
  "kernelspec": {
   "display_name": "Python 3 (ipykernel)",
   "language": "python",
   "name": "python3"
  },
  "language_info": {
   "codemirror_mode": {
    "name": "ipython",
    "version": 3
   },
   "file_extension": ".py",
   "mimetype": "text/x-python",
   "name": "python",
   "nbconvert_exporter": "python",
   "pygments_lexer": "ipython3",
   "version": "3.13.2"
  }
 },
 "nbformat": 4,
 "nbformat_minor": 5
}
