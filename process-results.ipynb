{
 "cells": [
  {
   "cell_type": "code",
   "execution_count": 1,
   "id": "c55a8ddf-c512-44ce-b985-28f49cf597ff",
   "metadata": {},
   "outputs": [],
   "source": [
    "import pyvista as pv"
   ]
  },
  {
   "cell_type": "code",
   "execution_count": 2,
   "id": "fe3b5205-dcf5-411f-bf8e-efd433d40e0f",
   "metadata": {},
   "outputs": [],
   "source": [
    "demag_field_out = pv.read(\"h_dmg.vtk\")"
   ]
  },
  {
   "cell_type": "code",
   "execution_count": 3,
   "id": "e7771580-dc48-4ae0-9732-98ec07bbb074",
   "metadata": {},
   "outputs": [
    {
     "data": {
      "text/html": [
       "<table style='width: 100%;'><tr><th>Header</th><th>Data Arrays</th></tr><tr><td>\n",
       "<table style='width: 100%;'>\n",
       "<tr><th>UnstructuredGrid</th><th>Information</th></tr>\n",
       "<tr><td>N Cells</td><td>289381</td></tr>\n",
       "<tr><td>N Points</td><td>48526</td></tr>\n",
       "<tr><td>X Bounds</td><td>-1.250e+02, 1.250e+02</td></tr>\n",
       "<tr><td>Y Bounds</td><td>-1.250e+02, 1.250e+02</td></tr>\n",
       "<tr><td>Z Bounds</td><td>-1.250e+02, 1.250e+02</td></tr>\n",
       "<tr><td>N Arrays</td><td>5</td></tr>\n",
       "</table>\n",
       "\n",
       "</td><td>\n",
       "<table style='width: 100%;'>\n",
       "<tr><th>Name</th><th>Field</th><th>Type</th><th>N Comp</th><th>Min</th><th>Max</th></tr>\n",
       "<tr><td>h_x</td><td>Points</td><td>float64</td><td>1</td><td>-5.358e-01</td><td>5.521e-01</td></tr>\n",
       "<tr><td>h_y</td><td>Points</td><td>float64</td><td>1</td><td>-5.317e-01</td><td>5.408e-01</td></tr>\n",
       "<tr><td>h_z</td><td>Points</td><td>float64</td><td>1</td><td>-4.772e-01</td><td>5.894e-01</td></tr>\n",
       "<tr><td>skfem:s:air</td><td>Cells</td><td>int64</td><td>1</td><td>0.000e+00</td><td>1.000e+00</td></tr>\n",
       "<tr><td>skfem:s:material</td><td>Cells</td><td>int64</td><td>1</td><td>0.000e+00</td><td>1.000e+00</td></tr>\n",
       "</table>\n",
       "\n",
       "</td></tr> </table>"
      ],
      "text/plain": [
       "UnstructuredGrid (0x7f4644aa5d80)\n",
       "  N Cells:    289381\n",
       "  N Points:   48526\n",
       "  X Bounds:   -1.250e+02, 1.250e+02\n",
       "  Y Bounds:   -1.250e+02, 1.250e+02\n",
       "  Z Bounds:   -1.250e+02, 1.250e+02\n",
       "  N Arrays:   5"
      ]
     },
     "execution_count": 3,
     "metadata": {},
     "output_type": "execute_result"
    }
   ],
   "source": [
    "demag_field_out"
   ]
  },
  {
   "cell_type": "code",
   "execution_count": 4,
   "id": "62e3a805-0e54-4b09-84e7-4fc9e79052e2",
   "metadata": {},
   "outputs": [],
   "source": [
    "import numpy as np"
   ]
  },
  {
   "cell_type": "code",
   "execution_count": 17,
   "id": "713a6c34-5516-421f-b2fc-968c7dc0d602",
   "metadata": {},
   "outputs": [],
   "source": [
    "demag_arr = np.array([demag_field_out.point_data[\"h_x\"], demag_field_out.point_data[\"h_y\"], demag_field_out.point_data[\"h_z\"]])"
   ]
  },
  {
   "cell_type": "code",
   "execution_count": 21,
   "id": "b6aa6369-fc4d-49ad-b5a4-4101ecadb6bd",
   "metadata": {},
   "outputs": [],
   "source": [
    "demag_arr = np.moveaxis(demag_arr, 0, 1)"
   ]
  },
  {
   "cell_type": "code",
   "execution_count": 22,
   "id": "9fa4c8ca-9243-4468-91bf-4dae6a5e7e58",
   "metadata": {},
   "outputs": [
    {
     "data": {
      "text/plain": [
       "array([    4, 13592, 15349, ...,  7321,  7476,  7460], shape=(1446905,))"
      ]
     },
     "execution_count": 22,
     "metadata": {},
     "output_type": "execute_result"
    }
   ],
   "source": [
    "demag_field_out.cells"
   ]
  },
  {
   "cell_type": "code",
   "execution_count": 23,
   "id": "c4ea9de3-eda4-46eb-897a-3f603aa055c6",
   "metadata": {},
   "outputs": [],
   "source": [
    "demag_field_new = pv.PolyData(demag_field_out.points, demag_field_out.cells)"
   ]
  },
  {
   "cell_type": "code",
   "execution_count": 24,
   "id": "a5dab721-1433-4061-9ef1-4a1fae85795e",
   "metadata": {},
   "outputs": [],
   "source": [
    "demag_field_new.point_data[\"h_dmg\"] = demag_arr"
   ]
  },
  {
   "cell_type": "code",
   "execution_count": 25,
   "id": "7babf6d3-eca5-4711-abbf-dcb925c976f4",
   "metadata": {},
   "outputs": [],
   "source": [
    "demag_field_new.save(\"h_dmg_vector.vtk\")"
   ]
  }
 ],
 "metadata": {
  "kernelspec": {
   "display_name": "Python 3 (ipykernel)",
   "language": "python",
   "name": "python3"
  },
  "language_info": {
   "codemirror_mode": {
    "name": "ipython",
    "version": 3
   },
   "file_extension": ".py",
   "mimetype": "text/x-python",
   "name": "python",
   "nbconvert_exporter": "python",
   "pygments_lexer": "ipython3",
   "version": "3.13.2"
  }
 },
 "nbformat": 4,
 "nbformat_minor": 5
}
