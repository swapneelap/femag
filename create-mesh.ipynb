{
 "cells": [
  {
   "cell_type": "code",
   "execution_count": 1,
   "id": "809390d5-bd56-46d4-96fd-b5a9d3f6f214",
   "metadata": {},
   "outputs": [],
   "source": [
    "import gmsh"
   ]
  },
  {
   "cell_type": "code",
   "execution_count": 2,
   "id": "f1d24d03-073a-4560-94e3-f397345ac58d",
   "metadata": {},
   "outputs": [],
   "source": [
    "gmsh.initialize()"
   ]
  },
  {
   "cell_type": "code",
   "execution_count": 3,
   "id": "f95dfba3-eee8-441a-8fca-9d9a7dc7674d",
   "metadata": {},
   "outputs": [],
   "source": [
    "gmsh.model.add(\"cube\")"
   ]
  },
  {
   "cell_type": "code",
   "execution_count": 4,
   "id": "b35a55be-4939-4ec2-b9c1-7f4bc0c4a2fd",
   "metadata": {},
   "outputs": [],
   "source": [
    "lc_dom = 10\n",
    "lc_mat = lc_dom/5\n",
    "dom_l = 250\n",
    "mat_l = dom_l/5"
   ]
  },
  {
   "cell_type": "code",
   "execution_count": 5,
   "id": "e1b4592f-1ac2-449e-bec2-d378223dac45",
   "metadata": {},
   "outputs": [],
   "source": [
    "d1 = gmsh.model.geo.addPoint(-dom_l/2, -dom_l/2, -dom_l/2, lc_dom)\n",
    "d2 = gmsh.model.geo.addPoint(dom_l/2, -dom_l/2, -dom_l/2, lc_dom)\n",
    "d3 = gmsh.model.geo.addPoint(dom_l/2, dom_l/2, -dom_l/2, lc_dom)\n",
    "d4 = gmsh.model.geo.addPoint(-dom_l/2, dom_l/2, -dom_l/2, lc_dom)\n",
    "\n",
    "d5 = gmsh.model.geo.addPoint(-dom_l/2, -dom_l/2, dom_l/2, lc_dom)\n",
    "d6 = gmsh.model.geo.addPoint(dom_l/2, -dom_l/2, dom_l/2, lc_dom)\n",
    "d7 = gmsh.model.geo.addPoint(dom_l/2, dom_l/2, dom_l/2, lc_dom)\n",
    "d8 = gmsh.model.geo.addPoint(-dom_l/2, dom_l/2, dom_l/2, lc_dom)"
   ]
  },
  {
   "cell_type": "code",
   "execution_count": 6,
   "id": "07f37d05-05a2-4c4d-9ffa-6f1c111b8c60",
   "metadata": {},
   "outputs": [],
   "source": [
    "m1 = gmsh.model.geo.addPoint(-mat_l/2, -mat_l/2, -mat_l/2, lc_mat)\n",
    "m2 = gmsh.model.geo.addPoint(mat_l/2, -mat_l/2, -mat_l/2, lc_mat)\n",
    "m3 = gmsh.model.geo.addPoint(mat_l/2, mat_l/2, -mat_l/2, lc_mat)\n",
    "m4 = gmsh.model.geo.addPoint(-mat_l/2, mat_l/2, -mat_l/2, lc_mat)\n",
    "\n",
    "m5 = gmsh.model.geo.addPoint(-mat_l/2, -mat_l/2, mat_l/2, lc_mat)\n",
    "m6 = gmsh.model.geo.addPoint(mat_l/2, -mat_l/2, mat_l/2, lc_mat)\n",
    "m7 = gmsh.model.geo.addPoint(mat_l/2, mat_l/2, mat_l/2, lc_mat)\n",
    "m8 = gmsh.model.geo.addPoint(-mat_l/2, mat_l/2, mat_l/2, lc_mat)"
   ]
  },
  {
   "cell_type": "code",
   "execution_count": 7,
   "id": "c0a1c071-671c-4506-a0b3-52a06ecb9ced",
   "metadata": {},
   "outputs": [],
   "source": [
    "l1 = gmsh.model.geo.addLine(d1, d2)\n",
    "l2 = gmsh.model.geo.addLine(d2, d3)\n",
    "l3 = gmsh.model.geo.addLine(d3, d4)\n",
    "l4 = gmsh.model.geo.addLine(d4, d1)\n",
    "\n",
    "l5 = gmsh.model.geo.addLine(d5, d6)\n",
    "l6 = gmsh.model.geo.addLine(d6, d7)\n",
    "l7 = gmsh.model.geo.addLine(d7, d8)\n",
    "l8 = gmsh.model.geo.addLine(d8, d5)\n",
    "\n",
    "l9 = gmsh.model.geo.addLine(d1, d5)\n",
    "l10 = gmsh.model.geo.addLine(d2, d6)\n",
    "l11 = gmsh.model.geo.addLine(d3, d7)\n",
    "l12 = gmsh.model.geo.addLine(d4, d8)"
   ]
  },
  {
   "cell_type": "code",
   "execution_count": 8,
   "id": "787418a6-2073-4ed2-9204-9a09d14fad3c",
   "metadata": {},
   "outputs": [],
   "source": [
    "lm1 = gmsh.model.geo.addLine(m1, m2)\n",
    "lm2 = gmsh.model.geo.addLine(m2, m3)\n",
    "lm3 = gmsh.model.geo.addLine(m3, m4)\n",
    "lm4 = gmsh.model.geo.addLine(m4, m1)\n",
    "\n",
    "lm5 = gmsh.model.geo.addLine(m5, m6)\n",
    "lm6 = gmsh.model.geo.addLine(m6, m7)\n",
    "lm7 = gmsh.model.geo.addLine(m7, m8)\n",
    "lm8 = gmsh.model.geo.addLine(m8, m5)\n",
    "\n",
    "lm9 = gmsh.model.geo.addLine(m1, m5)\n",
    "lm10 = gmsh.model.geo.addLine(m2, m6)\n",
    "lm11 = gmsh.model.geo.addLine(m3, m7)\n",
    "lm12 = gmsh.model.geo.addLine(m4, m8)"
   ]
  },
  {
   "cell_type": "code",
   "execution_count": 9,
   "id": "4f5cdd78-46dd-4f50-b984-09e5251f647b",
   "metadata": {},
   "outputs": [],
   "source": [
    "c1 = gmsh.model.geo.addCurveLoop([l1, l10, -l5, -l9])\n",
    "c2 = gmsh.model.geo.addCurveLoop([l2, l11, -l6, -l10])\n",
    "c3 = gmsh.model.geo.addCurveLoop([l3, l12, -l7, -l11])\n",
    "c4 = gmsh.model.geo.addCurveLoop([l4, l9, -l8, -l12])\n",
    "c5 = gmsh.model.geo.addCurveLoop([l5, l6, l7, l8])\n",
    "c6 = gmsh.model.geo.addCurveLoop([-l1, -l4, -l3, -l2])"
   ]
  },
  {
   "cell_type": "code",
   "execution_count": 10,
   "id": "f7dbb27e-2322-4402-b91c-04735d461efd",
   "metadata": {},
   "outputs": [],
   "source": [
    "cm1 = gmsh.model.geo.addCurveLoop([lm1, lm10, -lm5, -lm9])\n",
    "cm2 = gmsh.model.geo.addCurveLoop([lm2, lm11, -lm6, -lm10])\n",
    "cm3 = gmsh.model.geo.addCurveLoop([lm3, lm12, -lm7, -lm11])\n",
    "cm4 = gmsh.model.geo.addCurveLoop([lm4, lm9, -lm8, -lm12])\n",
    "cm5 = gmsh.model.geo.addCurveLoop([lm5, lm6, lm7, lm8])\n",
    "cm6 = gmsh.model.geo.addCurveLoop([-lm1, -lm4, -lm3, -lm2])"
   ]
  },
  {
   "cell_type": "code",
   "execution_count": 11,
   "id": "8a7b6a82-4209-484e-b033-8153249b32d1",
   "metadata": {},
   "outputs": [],
   "source": [
    "s1 = gmsh.model.geo.addPlaneSurface([c1])\n",
    "s2 = gmsh.model.geo.addPlaneSurface([c2])\n",
    "s3 = gmsh.model.geo.addPlaneSurface([c3])\n",
    "s4 = gmsh.model.geo.addPlaneSurface([c4])\n",
    "s5 = gmsh.model.geo.addPlaneSurface([c5])\n",
    "s6 = gmsh.model.geo.addPlaneSurface([c6])"
   ]
  },
  {
   "cell_type": "code",
   "execution_count": 12,
   "id": "72adb995-3bb8-49fa-8766-9a32bc769c0e",
   "metadata": {},
   "outputs": [],
   "source": [
    "sm1 = gmsh.model.geo.addPlaneSurface([cm1])\n",
    "sm2 = gmsh.model.geo.addPlaneSurface([cm2])\n",
    "sm3 = gmsh.model.geo.addPlaneSurface([cm3])\n",
    "sm4 = gmsh.model.geo.addPlaneSurface([cm4])\n",
    "sm5 = gmsh.model.geo.addPlaneSurface([cm5])\n",
    "sm6 = gmsh.model.geo.addPlaneSurface([cm6])"
   ]
  },
  {
   "cell_type": "code",
   "execution_count": 13,
   "id": "7649b10c-0ba5-4ca7-8a18-f942ad244709",
   "metadata": {},
   "outputs": [],
   "source": [
    "s_loop = gmsh.model.geo.addSurfaceLoop([s1, s2, s3, s4, s5, s6])"
   ]
  },
  {
   "cell_type": "code",
   "execution_count": 14,
   "id": "016f8ada-8671-47a2-be4f-f71505756139",
   "metadata": {},
   "outputs": [],
   "source": [
    "s_loop_m = gmsh.model.geo.addSurfaceLoop([sm1, sm2, sm3, sm4, sm5, sm6])"
   ]
  },
  {
   "cell_type": "code",
   "execution_count": 15,
   "id": "31eb27eb-742d-42a5-8ea6-abdd4b55b824",
   "metadata": {},
   "outputs": [],
   "source": [
    "vol = gmsh.model.geo.addVolume([s_loop, s_loop_m])"
   ]
  },
  {
   "cell_type": "code",
   "execution_count": 16,
   "id": "f822c2de-ba05-4fd9-9c20-964931af2956",
   "metadata": {},
   "outputs": [],
   "source": [
    "vol_m = gmsh.model.geo.addVolume([s_loop_m])"
   ]
  },
  {
   "cell_type": "code",
   "execution_count": 17,
   "id": "d0980be8-910e-4af0-8a5f-48ac9c448a4d",
   "metadata": {},
   "outputs": [],
   "source": [
    "gmsh.model.geo.synchronize()"
   ]
  },
  {
   "cell_type": "code",
   "execution_count": 18,
   "id": "e58a9882-35d2-46c0-af44-08cb8e063a8f",
   "metadata": {},
   "outputs": [],
   "source": [
    "group = gmsh.model.addPhysicalGroup(3, [vol], name=\"air\")\n",
    "group_m = gmsh.model.addPhysicalGroup(3, [vol_m], name=\"material\")"
   ]
  },
  {
   "cell_type": "code",
   "execution_count": 19,
   "id": "5bfb55e3-5af9-41fc-8562-53bf643d29a9",
   "metadata": {},
   "outputs": [
    {
     "name": "stdout",
     "output_type": "stream",
     "text": [
      "Info    : Meshing 1D...\n",
      "Info    : [  0%] Meshing curve 1 (Line)\n",
      "Info    : [ 10%] Meshing curve 2 (Line)\n",
      "Info    : [ 10%] Meshing curve 3 (Line)\n",
      "Info    : [ 20%] Meshing curve 4 (Line)\n",
      "Info    : [ 20%] Meshing curve 5 (Line)\n",
      "Info    : [ 30%] Meshing curve 6 (Line)\n",
      "Info    : [ 30%] Meshing curve 7 (Line)\n",
      "Info    : [ 30%] Meshing curve 8 (Line)\n",
      "Info    : [ 40%] Meshing curve 9 (Line)\n",
      "Info    : [ 40%] Meshing curve 10 (Line)\n",
      "Info    : [ 50%] Meshing curve 11 (Line)\n",
      "Info    : [ 50%] Meshing curve 12 (Line)\n",
      "Info    : [ 60%] Meshing curve 13 (Line)\n",
      "Info    : [ 60%] Meshing curve 14 (Line)\n",
      "Info    : [ 60%] Meshing curve 15 (Line)\n",
      "Info    : [ 70%] Meshing curve 16 (Line)\n",
      "Info    : [ 70%] Meshing curve 17 (Line)\n",
      "Info    : [ 80%] Meshing curve 18 (Line)\n",
      "Info    : [ 80%] Meshing curve 19 (Line)\n",
      "Info    : [ 80%] Meshing curve 20 (Line)\n",
      "Info    : [ 90%] Meshing curve 21 (Line)\n",
      "Info    : [ 90%] Meshing curve 22 (Line)\n",
      "Info    : [100%] Meshing curve 23 (Line)\n",
      "Info    : [100%] Meshing curve 24 (Line)\n",
      "Info    : Done meshing 1D (Wall 0.00399027s, CPU 0.006796s)\n",
      "Info    : Meshing 2D...\n",
      "Info    : [  0%] Meshing surface 1 (Plane, Frontal-Delaunay)\n",
      "Info    : [ 10%] Meshing surface 2 (Plane, Frontal-Delaunay)\n",
      "Info    : [ 20%] Meshing surface 3 (Plane, Frontal-Delaunay)\n",
      "Info    : [ 30%] Meshing surface 4 (Plane, Frontal-Delaunay)\n",
      "Info    : [ 40%] Meshing surface 5 (Plane, Frontal-Delaunay)\n",
      "Info    : [ 50%] Meshing surface 6 (Plane, Frontal-Delaunay)\n",
      "Info    : [ 60%] Meshing surface 7 (Plane, Frontal-Delaunay)\n",
      "Info    : [ 60%] Meshing surface 8 (Plane, Frontal-Delaunay)\n",
      "Info    : [ 70%] Meshing surface 9 (Plane, Frontal-Delaunay)\n",
      "Info    : [ 80%] Meshing surface 10 (Plane, Frontal-Delaunay)\n",
      "Info    : [ 90%] Meshing surface 11 (Plane, Frontal-Delaunay)\n",
      "Info    : [100%] Meshing surface 12 (Plane, Frontal-Delaunay)\n",
      "Info    : Done meshing 2D (Wall 0.196441s, CPU 0.196461s)\n",
      "Info    : Meshing 3D...\n",
      "Info    : 3D Meshing 2 volumes with 1 connected component\n",
      "Info    : Tetrahedrizing 8856 nodes...\n",
      "Info    : Done tetrahedrizing 8864 nodes (Wall 0.120855s, CPU 0.118824s)\n",
      "Info    : Reconstructing mesh...\n",
      "Info    :  - Creating surface mesh\n",
      "Info    :  - Identifying boundary edges\n",
      "Info    :  - Recovering boundary\n",
      "Info    : Done reconstructing mesh (Wall 0.242964s, CPU 0.235065s)\n",
      "Info    : Found volume 1\n",
      "Info    : Found volume 2\n",
      "Info    : It. 0 - 0 nodes created - worst tet radius 12.6804 (nodes removed 0 0)\n",
      "Info    : It. 500 - 500 nodes created - worst tet radius 4.26548 (nodes removed 0 0)\n",
      "Info    : It. 1000 - 1000 nodes created - worst tet radius 3.33152 (nodes removed 0 0)\n",
      "Info    : It. 1500 - 1500 nodes created - worst tet radius 2.90819 (nodes removed 0 0)\n",
      "Info    : It. 2000 - 2000 nodes created - worst tet radius 2.64443 (nodes removed 0 0)\n",
      "Info    : It. 2500 - 2500 nodes created - worst tet radius 2.46584 (nodes removed 0 0)\n",
      "Info    : It. 3000 - 3000 nodes created - worst tet radius 2.31861 (nodes removed 0 0)\n",
      "Info    : It. 3500 - 3500 nodes created - worst tet radius 2.19919 (nodes removed 0 0)\n",
      "Info    : It. 4000 - 4000 nodes created - worst tet radius 2.09843 (nodes removed 0 0)\n",
      "Info    : It. 4500 - 4500 nodes created - worst tet radius 2.02535 (nodes removed 0 0)\n",
      "Info    : It. 5000 - 5000 nodes created - worst tet radius 1.95568 (nodes removed 0 0)\n",
      "Info    : It. 5500 - 5500 nodes created - worst tet radius 1.89888 (nodes removed 0 0)\n",
      "Info    : It. 6000 - 6000 nodes created - worst tet radius 1.84611 (nodes removed 0 0)\n",
      "Info    : It. 6500 - 6500 nodes created - worst tet radius 1.79949 (nodes removed 0 0)\n",
      "Info    : It. 7000 - 7000 nodes created - worst tet radius 1.75764 (nodes removed 0 0)\n",
      "Info    : It. 7500 - 7500 nodes created - worst tet radius 1.71691 (nodes removed 0 0)\n",
      "Info    : It. 8000 - 8000 nodes created - worst tet radius 1.68033 (nodes removed 0 0)\n",
      "Info    : It. 8500 - 8500 nodes created - worst tet radius 1.64808 (nodes removed 0 0)\n",
      "Info    : It. 9000 - 9000 nodes created - worst tet radius 1.61876 (nodes removed 0 0)\n",
      "Info    : It. 9500 - 9500 nodes created - worst tet radius 1.59201 (nodes removed 0 0)\n",
      "Info    : It. 10000 - 10000 nodes created - worst tet radius 1.56627 (nodes removed 0 0)\n",
      "Info    : It. 10500 - 10500 nodes created - worst tet radius 1.54046 (nodes removed 0 0)\n",
      "Info    : It. 11000 - 11000 nodes created - worst tet radius 1.51555 (nodes removed 0 0)\n",
      "Info    : It. 11500 - 11500 nodes created - worst tet radius 1.49378 (nodes removed 0 0)\n",
      "Info    : It. 12000 - 12000 nodes created - worst tet radius 1.47369 (nodes removed 0 0)\n",
      "Info    : It. 12500 - 12500 nodes created - worst tet radius 1.45354 (nodes removed 0 0)\n",
      "Info    : It. 13000 - 13000 nodes created - worst tet radius 1.43432 (nodes removed 0 0)\n",
      "Info    : It. 13500 - 13500 nodes created - worst tet radius 1.41556 (nodes removed 0 0)\n",
      "Info    : It. 14000 - 14000 nodes created - worst tet radius 1.39999 (nodes removed 0 0)\n",
      "Info    : It. 14500 - 14500 nodes created - worst tet radius 1.39652 (nodes removed 0 0)\n",
      "Info    : It. 15000 - 15000 nodes created - worst tet radius 1.36766 (nodes removed 0 0)\n",
      "Info    : It. 15500 - 15500 nodes created - worst tet radius 1.35292 (nodes removed 0 0)\n",
      "Info    : It. 16000 - 16000 nodes created - worst tet radius 1.34004 (nodes removed 0 0)\n",
      "Info    : It. 16500 - 16500 nodes created - worst tet radius 1.32663 (nodes removed 0 0)\n",
      "Info    : It. 17000 - 17000 nodes created - worst tet radius 1.31324 (nodes removed 0 0)\n",
      "Info    : It. 17500 - 17500 nodes created - worst tet radius 1.3012 (nodes removed 0 0)\n",
      "Info    : It. 18000 - 18000 nodes created - worst tet radius 1.29041 (nodes removed 0 0)\n",
      "Info    : It. 18500 - 18500 nodes created - worst tet radius 1.27922 (nodes removed 0 0)\n",
      "Info    : It. 19000 - 19000 nodes created - worst tet radius 1.26781 (nodes removed 0 0)\n",
      "Info    : It. 19500 - 19500 nodes created - worst tet radius 1.25684 (nodes removed 0 0)\n",
      "Info    : It. 20000 - 20000 nodes created - worst tet radius 1.24669 (nodes removed 0 0)\n",
      "Info    : It. 20500 - 20500 nodes created - worst tet radius 1.23691 (nodes removed 0 0)\n",
      "Info    : It. 21000 - 21000 nodes created - worst tet radius 1.22659 (nodes removed 0 0)\n",
      "Info    : It. 21500 - 21500 nodes created - worst tet radius 1.21717 (nodes removed 0 0)\n",
      "Info    : It. 22000 - 22000 nodes created - worst tet radius 1.20816 (nodes removed 0 0)\n",
      "Info    : It. 22500 - 22500 nodes created - worst tet radius 1.19952 (nodes removed 0 0)\n",
      "Info    : It. 23000 - 23000 nodes created - worst tet radius 1.19114 (nodes removed 0 0)\n",
      "Info    : It. 23500 - 23500 nodes created - worst tet radius 1.18265 (nodes removed 0 0)\n",
      "Info    : It. 24000 - 24000 nodes created - worst tet radius 1.17477 (nodes removed 0 0)\n",
      "Info    : It. 24500 - 24500 nodes created - worst tet radius 1.16696 (nodes removed 0 0)\n",
      "Info    : It. 25000 - 25000 nodes created - worst tet radius 1.15984 (nodes removed 0 0)\n",
      "Info    : It. 25500 - 25500 nodes created - worst tet radius 1.15264 (nodes removed 0 0)\n",
      "Info    : It. 26000 - 26000 nodes created - worst tet radius 1.14544 (nodes removed 0 0)\n",
      "Info    : It. 26500 - 26500 nodes created - worst tet radius 1.13879 (nodes removed 0 0)\n",
      "Info    : It. 27000 - 27000 nodes created - worst tet radius 1.13196 (nodes removed 0 0)\n",
      "Info    : It. 27500 - 27500 nodes created - worst tet radius 1.12594 (nodes removed 0 0)\n",
      "Info    : It. 28000 - 28000 nodes created - worst tet radius 1.11949 (nodes removed 0 0)\n",
      "Info    : It. 28500 - 28500 nodes created - worst tet radius 1.11318 (nodes removed 0 0)\n",
      "Info    : It. 29000 - 29000 nodes created - worst tet radius 1.10645 (nodes removed 0 0)\n",
      "Info    : It. 29500 - 29500 nodes created - worst tet radius 1.10045 (nodes removed 0 0)\n",
      "Info    : It. 30000 - 30000 nodes created - worst tet radius 1.09424 (nodes removed 0 0)\n",
      "Info    : It. 30500 - 30500 nodes created - worst tet radius 1.08839 (nodes removed 0 0)\n",
      "Info    : It. 31000 - 31000 nodes created - worst tet radius 1.08274 (nodes removed 0 0)\n",
      "Info    : It. 31500 - 31500 nodes created - worst tet radius 1.07735 (nodes removed 0 0)\n",
      "Info    : It. 32000 - 32000 nodes created - worst tet radius 1.07184 (nodes removed 0 0)\n",
      "Info    : It. 32500 - 32500 nodes created - worst tet radius 1.06683 (nodes removed 0 0)\n",
      "Info    : It. 33000 - 33000 nodes created - worst tet radius 1.06151 (nodes removed 0 0)\n",
      "Info    : It. 33500 - 33500 nodes created - worst tet radius 1.0564 (nodes removed 0 0)\n",
      "Info    : It. 34000 - 34000 nodes created - worst tet radius 1.0512 (nodes removed 0 0)\n",
      "Info    : It. 34500 - 34500 nodes created - worst tet radius 1.0461 (nodes removed 0 0)\n",
      "Info    : It. 35000 - 35000 nodes created - worst tet radius 1.04091 (nodes removed 0 0)\n",
      "Info    : It. 35500 - 35500 nodes created - worst tet radius 1.036 (nodes removed 0 0)\n",
      "Info    : It. 36000 - 36000 nodes created - worst tet radius 1.03132 (nodes removed 0 0)\n",
      "Info    : It. 36500 - 36500 nodes created - worst tet radius 1.02636 (nodes removed 0 0)\n",
      "Info    : It. 37000 - 37000 nodes created - worst tet radius 1.02191 (nodes removed 0 0)\n",
      "Info    : It. 37500 - 37500 nodes created - worst tet radius 1.01771 (nodes removed 0 0)\n",
      "Info    : It. 38000 - 38000 nodes created - worst tet radius 1.01378 (nodes removed 0 0)\n",
      "Info    : It. 38500 - 38500 nodes created - worst tet radius 1.00964 (nodes removed 0 0)\n",
      "Info    : It. 39000 - 39000 nodes created - worst tet radius 1.02273 (nodes removed 0 0)\n",
      "Info    : It. 39500 - 39500 nodes created - worst tet radius 1.00147 (nodes removed 0 0)\n",
      "Info    : 3D refinement terminated (48526 nodes total):\n",
      "Info    :  - 0 Delaunay cavities modified for star shapeness\n",
      "Info    :  - 0 nodes could not be inserted\n",
      "Info    :  - 294303 tetrahedra created in 2.69877 sec. (109050 tets/s)\n",
      "Info    : 0 node relocations\n",
      "Info    : Done meshing 3D (Wall 4.51367s, CPU 4.50555s)\n",
      "Info    : Optimizing mesh...\n",
      "Info    : Optimizing volume 1\n",
      "Info    : Optimization starts (volume = 1.55e+07) with worst = 0.000953073 / average = 0.780143:\n",
      "Info    : 0.00 < quality < 0.10 :       468 elements\n",
      "Info    : 0.10 < quality < 0.20 :      1282 elements\n",
      "Info    : 0.20 < quality < 0.30 :      2418 elements\n",
      "Info    : 0.30 < quality < 0.40 :      3872 elements\n",
      "Info    : 0.40 < quality < 0.50 :      6191 elements\n",
      "Info    : 0.50 < quality < 0.60 :     10639 elements\n",
      "Info    : 0.60 < quality < 0.70 :     21423 elements\n",
      "Info    : 0.70 < quality < 0.80 :     50519 elements\n",
      "Info    : 0.80 < quality < 0.90 :     82631 elements\n",
      "Info    : 0.90 < quality < 1.00 :     41964 elements\n",
      "Info    : 4115 edge swaps, 109 node relocations (volume = 1.55e+07): worst = 0.0701029 / average = 0.791776 (Wall 0.13252s, CPU 0.132613s)\n",
      "Info    : 4144 edge swaps, 111 node relocations (volume = 1.55e+07): worst = 0.246537 / average = 0.791846 (Wall 0.174286s, CPU 0.174322s)\n",
      "Info    : 4145 edge swaps, 112 node relocations (volume = 1.55e+07): worst = 0.246537 / average = 0.791849 (Wall 0.214744s, CPU 0.214793s)\n",
      "Info    : No ill-shaped tets in the mesh :-)\n",
      "Info    : 0.00 < quality < 0.10 :         0 elements\n",
      "Info    : 0.10 < quality < 0.20 :         0 elements\n",
      "Info    : 0.20 < quality < 0.30 :         3 elements\n",
      "Info    : 0.30 < quality < 0.40 :      3833 elements\n",
      "Info    : 0.40 < quality < 0.50 :      5975 elements\n",
      "Info    : 0.50 < quality < 0.60 :     10392 elements\n",
      "Info    : 0.60 < quality < 0.70 :     21284 elements\n",
      "Info    : 0.70 < quality < 0.80 :     51238 elements\n",
      "Info    : 0.80 < quality < 0.90 :     83231 elements\n",
      "Info    : 0.90 < quality < 1.00 :     41742 elements\n",
      "Info    : Optimizing volume 2\n",
      "Info    : Optimization starts (volume = 125000) with worst = 0.00498284 / average = 0.783435:\n",
      "Info    : 0.00 < quality < 0.10 :       142 elements\n",
      "Info    : 0.10 < quality < 0.20 :       439 elements\n",
      "Info    : 0.20 < quality < 0.30 :       772 elements\n",
      "Info    : 0.30 < quality < 0.40 :      1278 elements\n",
      "Info    : 0.40 < quality < 0.50 :      1914 elements\n",
      "Info    : 0.50 < quality < 0.60 :      3182 elements\n",
      "Info    : 0.60 < quality < 0.70 :      6987 elements\n",
      "Info    : 0.70 < quality < 0.80 :     16240 elements\n",
      "Info    : 0.80 < quality < 0.90 :     27876 elements\n",
      "Info    : 0.90 < quality < 1.00 :     14062 elements\n",
      "Info    : 1337 edge swaps, 34 node relocations (volume = 125000): worst = 0.214268 / average = 0.795189 (Wall 0.0424577s, CPU 0.042423s)\n",
      "Info    : 1346 edge swaps, 37 node relocations (volume = 125000): worst = 0.300011 / average = 0.79524 (Wall 0.0507187s, CPU 0.050774s)\n",
      "Info    : No ill-shaped tets in the mesh :-)\n",
      "Info    : 0.00 < quality < 0.10 :         0 elements\n",
      "Info    : 0.10 < quality < 0.20 :         0 elements\n",
      "Info    : 0.20 < quality < 0.30 :         0 elements\n",
      "Info    : 0.30 < quality < 0.40 :      1265 elements\n",
      "Info    : 0.40 < quality < 0.50 :      1832 elements\n",
      "Info    : 0.50 < quality < 0.60 :      3060 elements\n",
      "Info    : 0.60 < quality < 0.70 :      7001 elements\n",
      "Info    : 0.70 < quality < 0.80 :     16390 elements\n",
      "Info    : 0.80 < quality < 0.90 :     28143 elements\n",
      "Info    : 0.90 < quality < 1.00 :     13988 elements\n",
      "Info    : Done optimizing mesh (Wall 0.820076s, CPU 0.813205s)\n",
      "Info    : 48526 nodes 307701 elements\n"
     ]
    }
   ],
   "source": [
    "gmsh.model.mesh.generate(3)"
   ]
  },
  {
   "cell_type": "code",
   "execution_count": 20,
   "id": "bb7752f5-428a-4e91-948a-0c7a45516353",
   "metadata": {},
   "outputs": [
    {
     "name": "stderr",
     "output_type": "stream",
     "text": [
      "X_ChangeProperty: BadValue (integer parameter out of range for operation) 0x0\n"
     ]
    },
    {
     "name": "stdout",
     "output_type": "stream",
     "text": [
      "-------------------------------------------------------\n",
      "Version       : 4.13.1\n",
      "License       : GNU General Public License\n",
      "Build OS      : Linux64-sdk\n",
      "Build date    : 20241016\n",
      "Build host    : 2976249cf102\n",
      "Build options : 64Bit ALGLIB[contrib] ANN[contrib] Bamg Blossom Cairo DIntegration Dlopen DomHex Eigen[contrib] Fltk GMP Gmm[contrib] Hxt Jpeg Kbipack LinuxJoystick MathEx[contrib] Mesh Metis[contrib] Mpeg Netgen Nii2mesh ONELAB ONELABMetamodel OpenCASCADE OpenCASCADE-CAF OpenGL OpenMP OptHom Parser Plugins Png Post QuadMeshingTools QuadTri Solver TetGen/BR TinyXML2[contrib] Untangle Voro++[contrib] WinslowUntangler Zlib\n",
      "FLTK version  : 1.3.9\n",
      "OCC version   : 7.8.1\n",
      "Packaged by   : conda\n",
      "Web site      : https://gmsh.info\n",
      "Issue tracker : https://gitlab.onelab.info/gmsh/gmsh/issues\n",
      "-------------------------------------------------------\n"
     ]
    }
   ],
   "source": [
    "gmsh.fltk.run()"
   ]
  },
  {
   "cell_type": "code",
   "execution_count": 21,
   "id": "f7a4abab-9c0a-4ac5-bc33-e495ae4ad20a",
   "metadata": {},
   "outputs": [
    {
     "name": "stdout",
     "output_type": "stream",
     "text": [
      "Info    : Writing 'cube.msh'...\n",
      "Info    : Done writing 'cube.msh'\n"
     ]
    }
   ],
   "source": [
    "gmsh.write(\"cube.msh\")"
   ]
  },
  {
   "cell_type": "code",
   "execution_count": 22,
   "id": "50c0d3b3-8bef-4705-8ee3-3ce44f793d90",
   "metadata": {},
   "outputs": [],
   "source": [
    "gmsh.finalize()"
   ]
  }
 ],
 "metadata": {
  "kernelspec": {
   "display_name": "Python 3 (ipykernel)",
   "language": "python",
   "name": "python3"
  },
  "language_info": {
   "codemirror_mode": {
    "name": "ipython",
    "version": 3
   },
   "file_extension": ".py",
   "mimetype": "text/x-python",
   "name": "python",
   "nbconvert_exporter": "python",
   "pygments_lexer": "ipython3",
   "version": "3.13.2"
  }
 },
 "nbformat": 4,
 "nbformat_minor": 5
}
